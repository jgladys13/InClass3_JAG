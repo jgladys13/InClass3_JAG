{
 "cells": [
  {
   "cell_type": "markdown",
   "id": "f954436f",
   "metadata": {
    "colab_type": "text",
    "id": "m3PAEPRDRLA3"
   },
   "source": [
    "# In class Assignment3: Linear Regression, Support Vector Regression (SVR), Decision Tree Regression and Random Forest Regression"
   ]
  },
  {
   "cell_type": "markdown",
   "id": "3ed66c4b",
   "metadata": {
    "colab_type": "text",
    "id": "0VCUAVIjRdzZ"
   },
   "source": [
    "## Importing the libraries"
   ]
  },
  {
   "cell_type": "code",
   "execution_count": 8,
   "id": "e344186d",
   "metadata": {},
   "outputs": [],
   "source": [
    "import numpy as np\n",
    "import matplotlib.pyplot as plt\n",
    "import pandas as pd\n",
    "import seaborn as sns"
   ]
  },
  {
   "cell_type": "code",
   "execution_count": null,
   "id": "2e7e4718",
   "metadata": {},
   "outputs": [],
   "source": []
  },
  {
   "cell_type": "markdown",
   "id": "fe1a1149",
   "metadata": {
    "colab_type": "text",
    "id": "fXVXoFWtSF4_"
   },
   "source": [
    "## Importing the dataset"
   ]
  },
  {
   "cell_type": "code",
   "execution_count": 9,
   "id": "145dd502",
   "metadata": {},
   "outputs": [],
   "source": [
    "dataset=pd.read_csv(\"heart.data.csv\")"
   ]
  },
  {
   "cell_type": "code",
   "execution_count": 10,
   "id": "2e737f93",
   "metadata": {},
   "outputs": [
    {
     "data": {
      "text/html": [
       "<div>\n",
       "<style scoped>\n",
       "    .dataframe tbody tr th:only-of-type {\n",
       "        vertical-align: middle;\n",
       "    }\n",
       "\n",
       "    .dataframe tbody tr th {\n",
       "        vertical-align: top;\n",
       "    }\n",
       "\n",
       "    .dataframe thead th {\n",
       "        text-align: right;\n",
       "    }\n",
       "</style>\n",
       "<table border=\"1\" class=\"dataframe\">\n",
       "  <thead>\n",
       "    <tr style=\"text-align: right;\">\n",
       "      <th></th>\n",
       "      <th>biking</th>\n",
       "      <th>smoking</th>\n",
       "      <th>heart.disease</th>\n",
       "    </tr>\n",
       "  </thead>\n",
       "  <tbody>\n",
       "    <tr>\n",
       "      <th>0</th>\n",
       "      <td>30.801246</td>\n",
       "      <td>10.896608</td>\n",
       "      <td>11.769423</td>\n",
       "    </tr>\n",
       "    <tr>\n",
       "      <th>1</th>\n",
       "      <td>65.129215</td>\n",
       "      <td>2.219563</td>\n",
       "      <td>2.854081</td>\n",
       "    </tr>\n",
       "    <tr>\n",
       "      <th>2</th>\n",
       "      <td>1.959665</td>\n",
       "      <td>17.588331</td>\n",
       "      <td>17.177803</td>\n",
       "    </tr>\n",
       "    <tr>\n",
       "      <th>3</th>\n",
       "      <td>44.800196</td>\n",
       "      <td>2.802559</td>\n",
       "      <td>6.816647</td>\n",
       "    </tr>\n",
       "    <tr>\n",
       "      <th>4</th>\n",
       "      <td>69.428454</td>\n",
       "      <td>15.974505</td>\n",
       "      <td>4.062224</td>\n",
       "    </tr>\n",
       "  </tbody>\n",
       "</table>\n",
       "</div>"
      ],
      "text/plain": [
       "      biking    smoking  heart.disease\n",
       "0  30.801246  10.896608      11.769423\n",
       "1  65.129215   2.219563       2.854081\n",
       "2   1.959665  17.588331      17.177803\n",
       "3  44.800196   2.802559       6.816647\n",
       "4  69.428454  15.974505       4.062224"
      ]
     },
     "execution_count": 10,
     "metadata": {},
     "output_type": "execute_result"
    }
   ],
   "source": [
    "dataset.head()"
   ]
  },
  {
   "cell_type": "markdown",
   "id": "fde85fb2",
   "metadata": {},
   "source": [
    "## Check out if there any missing value and any categorical column"
   ]
  },
  {
   "cell_type": "code",
   "execution_count": 11,
   "id": "a4147e24",
   "metadata": {},
   "outputs": [
    {
     "data": {
      "text/plain": [
       "biking           3\n",
       "smoking          4\n",
       "heart.disease    1\n",
       "dtype: int64"
      ]
     },
     "execution_count": 11,
     "metadata": {},
     "output_type": "execute_result"
    }
   ],
   "source": [
    "dataset.isnull().sum()"
   ]
  },
  {
   "cell_type": "code",
   "execution_count": 12,
   "id": "9cdda3ec",
   "metadata": {},
   "outputs": [
    {
     "name": "stdout",
     "output_type": "stream",
     "text": [
      "<class 'pandas.core.frame.DataFrame'>\n",
      "RangeIndex: 494 entries, 0 to 493\n",
      "Data columns (total 3 columns):\n",
      " #   Column         Non-Null Count  Dtype  \n",
      "---  ------         --------------  -----  \n",
      " 0   biking         491 non-null    float64\n",
      " 1   smoking        490 non-null    float64\n",
      " 2   heart.disease  493 non-null    float64\n",
      "dtypes: float64(3)\n",
      "memory usage: 11.7 KB\n"
     ]
    }
   ],
   "source": [
    "dataset.info()"
   ]
  },
  {
   "cell_type": "code",
   "execution_count": null,
   "id": "0cdfeeaf",
   "metadata": {},
   "outputs": [],
   "source": []
  },
  {
   "cell_type": "code",
   "execution_count": 14,
   "id": "46f3d3a4",
   "metadata": {},
   "outputs": [
    {
     "data": {
      "text/plain": [
       "<AxesSubplot:xlabel='smoking', ylabel='Count'>"
      ]
     },
     "execution_count": 14,
     "metadata": {},
     "output_type": "execute_result"
    },
    {
     "data": {
      "image/png": "[encoded data removed]",
      "text/plain": [
       "<Figure size 432x288 with 1 Axes>"
      ]
     },
     "metadata": {
      "needs_background": "light"
     },
     "output_type": "display_data"
    }
   ],
   "source": [
    "sns.histplot(dataset.smoking)"
   ]
  },
  {
   "cell_type": "code",
   "execution_count": 16,
   "id": "d9641dc8",
   "metadata": {},
   "outputs": [
    {
     "data": {
      "text/plain": [
       "<AxesSubplot:xlabel='biking', ylabel='Count'>"
      ]
     },
     "execution_count": 16,
     "metadata": {},
     "output_type": "execute_result"
    },
    {
     "data": {
      "image/png": "[encoded data removed]",
      "text/plain": [
       "<Figure size 432x288 with 1 Axes>"
      ]
     },
     "metadata": {
      "needs_background": "light"
     },
     "output_type": "display_data"
    }
   ],
   "source": [
    "sns.histplot(dataset.biking)"
   ]
  },
  {
   "cell_type": "code",
   "execution_count": 18,
   "id": "4530317a",
   "metadata": {},
   "outputs": [
    {
     "data": {
      "text/plain": [
       "<AxesSubplot:xlabel='heart.disease', ylabel='Count'>"
      ]
     },
     "execution_count": 18,
     "metadata": {},
     "output_type": "execute_result"
    },
    {
     "data": {
      "image/png": "[encoded data removed]",
      "text/plain": [
       "<Figure size 432x288 with 1 Axes>"
      ]
     },
     "metadata": {
      "needs_background": "light"
     },
     "output_type": "display_data"
    }
   ],
   "source": [
    "sns.histplot(dataset['heart.disease'])"
   ]
  },
  {
   "cell_type": "markdown",
   "id": "a4c99196",
   "metadata": {},
   "source": [
    "## Create different copies of your dataset for using in Linear Regression, SVR, DT, RF"
   ]
  },
  {
   "cell_type": "code",
   "execution_count": 19,
   "id": "07e44bc2",
   "metadata": {},
   "outputs": [],
   "source": [
    "from sklearn.impute import SimpleImputer"
   ]
  },
  {
   "cell_type": "code",
   "execution_count": 20,
   "id": "7b5e129b",
   "metadata": {},
   "outputs": [
    {
     "data": {
      "text/plain": [
       "biking           0\n",
       "smoking          4\n",
       "heart.disease    1\n",
       "dtype: int64"
      ]
     },
     "execution_count": 20,
     "metadata": {},
     "output_type": "execute_result"
    }
   ],
   "source": [
    "imputer=SimpleImputer(missing_values=np.nan, strategy='mean')\n",
    "dataset['biking']=imputer.fit_transform(dataset[['biking']])\n",
    "dataset.isnull().sum()"
   ]
  },
  {
   "cell_type": "code",
   "execution_count": 21,
   "id": "d04240a2",
   "metadata": {},
   "outputs": [
    {
     "data": {
      "text/plain": [
       "biking           0\n",
       "smoking          0\n",
       "heart.disease    1\n",
       "dtype: int64"
      ]
     },
     "execution_count": 21,
     "metadata": {},
     "output_type": "execute_result"
    }
   ],
   "source": [
    "imputer=SimpleImputer(missing_values=np.nan, strategy='mean')\n",
    "dataset['smoking']=imputer.fit_transform(dataset[['smoking']])\n",
    "dataset.isnull().sum()"
   ]
  },
  {
   "cell_type": "code",
   "execution_count": 22,
   "id": "e1543dc2",
   "metadata": {},
   "outputs": [
    {
     "data": {
      "text/plain": [
       "biking           0\n",
       "smoking          0\n",
       "heart.disease    0\n",
       "dtype: int64"
      ]
     },
     "execution_count": 22,
     "metadata": {},
     "output_type": "execute_result"
    }
   ],
   "source": [
    "imputer=SimpleImputer(missing_values=np.nan, strategy='mean')\n",
    "dataset['heart.disease']=imputer.fit_transform(dataset[['heart.disease']])\n",
    "dataset.isnull().sum()"
   ]
  },
  {
   "cell_type": "code",
   "execution_count": 24,
   "id": "361f5ae7",
   "metadata": {},
   "outputs": [],
   "source": [
    "data_LR=dataset\n",
    "data_SVR=dataset\n",
    "data_DT=dataset\n",
    "data_RF=dataset"
   ]
  },
  {
   "cell_type": "markdown",
   "id": "608832ce",
   "metadata": {},
   "source": [
    "## 1. Linear Regression"
   ]
  },
  {
   "cell_type": "code",
   "execution_count": 26,
   "id": "d0a4d919",
   "metadata": {},
   "outputs": [],
   "source": [
    "X = data_LR[['biking','smoking']]\n",
    "y = data_LR[['heart.disease']]"
   ]
  },
  {
   "cell_type": "code",
   "execution_count": null,
   "id": "0502261f",
   "metadata": {},
   "outputs": [],
   "source": []
  },
  {
   "cell_type": "markdown",
   "id": "b229f0c8",
   "metadata": {},
   "source": [
    "## Splitting the dataset into the Training set and Test set¶"
   ]
  },
  {
   "cell_type": "code",
   "execution_count": 27,
   "id": "74cb8bf4",
   "metadata": {},
   "outputs": [],
   "source": [
    "from sklearn.model_selection import train_test_split\n",
    "X_train, X_test, y_train, y_test = train_test_split(X,y, test_size=0.2, random_state=0)"
   ]
  },
  {
   "cell_type": "code",
   "execution_count": 28,
   "id": "9b38aae4",
   "metadata": {},
   "outputs": [
    {
     "data": {
      "text/plain": [
       "LinearRegression()"
      ]
     },
     "execution_count": 28,
     "metadata": {},
     "output_type": "execute_result"
    }
   ],
   "source": [
    "from sklearn.linear_model import LinearRegression\n",
    "regressor=LinearRegression()\n",
    "regressor.fit(X_train,y_train)"
   ]
  },
  {
   "cell_type": "markdown",
   "id": "11ce2e73",
   "metadata": {},
   "source": [
    "## Training the Linear Regression model on the Training set"
   ]
  },
  {
   "cell_type": "code",
   "execution_count": 29,
   "id": "35d0a2dd",
   "metadata": {},
   "outputs": [
    {
     "data": {
      "text/plain": [
       "LinearRegression()"
      ]
     },
     "execution_count": 29,
     "metadata": {},
     "output_type": "execute_result"
    }
   ],
   "source": [
    "regressor=LinearRegression()\n",
    "regressor.fit(X_train,y_train)"
   ]
  },
  {
   "cell_type": "code",
   "execution_count": null,
   "id": "b8b8a714",
   "metadata": {},
   "outputs": [],
   "source": []
  },
  {
   "cell_type": "markdown",
   "id": "40a718f5",
   "metadata": {},
   "source": [
    "## Predicting the Test set results"
   ]
  },
  {
   "cell_type": "code",
   "execution_count": 30,
   "id": "24380dc4",
   "metadata": {},
   "outputs": [],
   "source": [
    "y_pred=regressor.predict(X_test)"
   ]
  },
  {
   "cell_type": "code",
   "execution_count": 33,
   "id": "05b8163c",
   "metadata": {},
   "outputs": [
    {
     "data": {
      "text/plain": [
       "array([[9.75659682]])"
      ]
     },
     "execution_count": 33,
     "metadata": {},
     "output_type": "execute_result"
    }
   ],
   "source": [
    "regressor.predict([[45.0972,21.38562]])"
   ]
  },
  {
   "cell_type": "code",
   "execution_count": 34,
   "id": "3b83b95d",
   "metadata": {},
   "outputs": [
    {
     "data": {
      "text/plain": [
       "array([[14.47643777]])"
      ]
     },
     "execution_count": 34,
     "metadata": {},
     "output_type": "execute_result"
    }
   ],
   "source": [
    "regressor.predict([[8.279743,6.42372]])"
   ]
  },
  {
   "cell_type": "code",
   "execution_count": 35,
   "id": "d6cd889c",
   "metadata": {},
   "outputs": [
    {
     "data": {
      "text/plain": [
       "array([[10.19401718]])"
      ]
     },
     "execution_count": 35,
     "metadata": {},
     "output_type": "execute_result"
    }
   ],
   "source": [
    "regressor.predict([[42.34586343,20.74132754]])"
   ]
  },
  {
   "cell_type": "code",
   "execution_count": 36,
   "id": "9442e489",
   "metadata": {},
   "outputs": [
    {
     "data": {
      "text/plain": [
       "array([[13.03113355]])"
      ]
     },
     "execution_count": 36,
     "metadata": {},
     "output_type": "execute_result"
    }
   ],
   "source": [
    "regressor.predict([[30.77425409,23.61017497]])"
   ]
  },
  {
   "cell_type": "code",
   "execution_count": null,
   "id": "6fcd4c3e",
   "metadata": {},
   "outputs": [],
   "source": []
  },
  {
   "attachments": {
    "image-2.png": {
     "image/png": "[encoded data removed]"
    }
   },
   "cell_type": "markdown",
   "id": "f362e7ac",
   "metadata": {},
   "source": [
    "## validation dataset\n",
    "![image-2.png](attachment:image-2.png)!\n",
    "Fill up the excel"
   ]
  },
  {
   "cell_type": "code",
   "execution_count": null,
   "id": "41504abc",
   "metadata": {},
   "outputs": [],
   "source": [
    "#Case1"
   ]
  },
  {
   "cell_type": "code",
   "execution_count": null,
   "id": "9d23579b",
   "metadata": {},
   "outputs": [],
   "source": [
    "#Case2"
   ]
  },
  {
   "cell_type": "code",
   "execution_count": null,
   "id": "4aba2eb4",
   "metadata": {},
   "outputs": [],
   "source": [
    "#Case3"
   ]
  },
  {
   "cell_type": "code",
   "execution_count": null,
   "id": "c96f032a",
   "metadata": {},
   "outputs": [],
   "source": [
    "#Case3"
   ]
  },
  {
   "cell_type": "markdown",
   "id": "68b132bd",
   "metadata": {},
   "source": [
    "## Evaluating the Model Performance using r2score and rmsc"
   ]
  },
  {
   "cell_type": "code",
   "execution_count": 87,
   "id": "5aca6afa",
   "metadata": {},
   "outputs": [
    {
     "name": "stdout",
     "output_type": "stream",
     "text": [
      "r2-score 0.9720255707048382\n"
     ]
    }
   ],
   "source": [
    "from sklearn.metrics import r2_score\n",
    "print(\"r2-score\", r2_score(y_test,y_pred))"
   ]
  },
  {
   "cell_type": "code",
   "execution_count": 88,
   "id": "c9bfc67d",
   "metadata": {},
   "outputs": [
    {
     "name": "stdout",
     "output_type": "stream",
     "text": [
      "The Mean Square Error is 0.7435579865944336\n"
     ]
    }
   ],
   "source": [
    "from sklearn.metrics import mean_squared_error as msc\n",
    "from math import sqrt\n",
    "rms=sqrt(msc(y_test,y_pred))\n",
    "print(\"The Mean Square Error is\", rms)"
   ]
  },
  {
   "cell_type": "markdown",
   "id": "3d93609d",
   "metadata": {},
   "source": [
    "# 2. Support Vector Regressor"
   ]
  },
  {
   "cell_type": "markdown",
   "id": "5e7eb510",
   "metadata": {},
   "source": [
    "## Selecting the copied dataset"
   ]
  },
  {
   "cell_type": "code",
   "execution_count": 75,
   "id": "59e9a63d",
   "metadata": {},
   "outputs": [],
   "source": [
    "X = data_SVR[['biking','smoking']]\n",
    "y = data_SVR[['heart.disease']]"
   ]
  },
  {
   "cell_type": "markdown",
   "id": "2d269a60",
   "metadata": {},
   "source": [
    "## Splitting the dataset into the Training set and Test set"
   ]
  },
  {
   "cell_type": "code",
   "execution_count": 76,
   "id": "29beb1ee",
   "metadata": {},
   "outputs": [],
   "source": [
    "from sklearn.model_selection import train_test_split\n",
    "X_train, X_test, y_train, y_test = train_test_split(X,y, test_size=0.2, random_state=0)"
   ]
  },
  {
   "cell_type": "code",
   "execution_count": null,
   "id": "4436ea56",
   "metadata": {},
   "outputs": [],
   "source": []
  },
  {
   "cell_type": "code",
   "execution_count": null,
   "id": "5a990142",
   "metadata": {},
   "outputs": [],
   "source": []
  },
  {
   "cell_type": "markdown",
   "id": "377d74a1",
   "metadata": {
    "colab_type": "text",
    "id": "YS8FeLHYS-nI"
   },
   "source": [
    "## Feature Scaling:- X_train and y_train\n",
    "- X_train = sc_X.fit_transform(X_train)\n",
    "- y_train = sc_y.fit_transform(y_train)"
   ]
  },
  {
   "cell_type": "code",
   "execution_count": 77,
   "id": "fc467ff1",
   "metadata": {},
   "outputs": [],
   "source": [
    "from sklearn.preprocessing import StandardScaler\n",
    "sc_X=StandardScaler()\n",
    "sc_y=StandardScaler()\n",
    "X_train=sc_X.fit_transform(X_train)\n",
    "y_train=sc_y.fit_transform(y_train)"
   ]
  },
  {
   "cell_type": "markdown",
   "id": "f03706d3",
   "metadata": {},
   "source": [
    "## Training the SVR model on the Training set"
   ]
  },
  {
   "cell_type": "code",
   "execution_count": 78,
   "id": "7f2358a5",
   "metadata": {},
   "outputs": [
    {
     "name": "stderr",
     "output_type": "stream",
     "text": [
      "/Users/joeygladys/opt/anaconda3/lib/python3.8/site-packages/sklearn/utils/validation.py:63: DataConversionWarning: A column-vector y was passed when a 1d array was expected. Please change the shape of y to (n_samples, ), for example using ravel().\n",
      "  return f(*args, **kwargs)\n"
     ]
    },
    {
     "data": {
      "text/plain": [
       "SVR()"
      ]
     },
     "execution_count": 78,
     "metadata": {},
     "output_type": "execute_result"
    }
   ],
   "source": [
    "from sklearn.svm import SVR\n",
    "regressor=SVR(kernel='rbf')\n",
    "regressor.fit(X_train,y_train)"
   ]
  },
  {
   "cell_type": "markdown",
   "id": "b5e9db6f",
   "metadata": {},
   "source": [
    "## Predicting the Test set results"
   ]
  },
  {
   "cell_type": "code",
   "execution_count": 98,
   "id": "454152cc",
   "metadata": {},
   "outputs": [],
   "source": [
    "y_pred=sc_y.inverse_transform(regressor.predict(sc_X.transform(X_test)).reshape(-1,1))"
   ]
  },
  {
   "cell_type": "code",
   "execution_count": null,
   "id": "c3fe99a9",
   "metadata": {},
   "outputs": [],
   "source": []
  },
  {
   "attachments": {
    "image.png": {
     "image/png": "[encoded data removed]"
    }
   },
   "cell_type": "markdown",
   "id": "0e4ec00c",
   "metadata": {},
   "source": [
    "\n",
    "## Validation dataset\n",
    "![image.png](attachment:image.png)\n",
    "Fill up the excel"
   ]
  },
  {
   "cell_type": "code",
   "execution_count": 91,
   "id": "e1b7a4b2",
   "metadata": {},
   "outputs": [
    {
     "data": {
      "text/plain": [
       "array([[9.5389144]])"
      ]
     },
     "execution_count": 91,
     "metadata": {},
     "output_type": "execute_result"
    }
   ],
   "source": [
    "#Case1 check the sample\n",
    "sc_y.inverse_transform(regressor.predict(sc_X.transform([[45.092, 21.385]])).reshape(-1,1))"
   ]
  },
  {
   "cell_type": "code",
   "execution_count": 92,
   "id": "630b09d9",
   "metadata": {},
   "outputs": [
    {
     "data": {
      "text/plain": [
       "array([[14.47161849]])"
      ]
     },
     "execution_count": 92,
     "metadata": {},
     "output_type": "execute_result"
    }
   ],
   "source": [
    "#Case2\n",
    "sc_y.inverse_transform(regressor.predict(sc_X.transform([[8.279743,6.42372]])).reshape(-1,1))"
   ]
  },
  {
   "cell_type": "code",
   "execution_count": 93,
   "id": "774521c4",
   "metadata": {},
   "outputs": [
    {
     "data": {
      "text/plain": [
       "array([[9.97610421]])"
      ]
     },
     "execution_count": 93,
     "metadata": {},
     "output_type": "execute_result"
    }
   ],
   "source": [
    "#Case3\n",
    "sc_y.inverse_transform(regressor.predict(sc_X.transform([[42.34586,20.74133]])).reshape(-1,1))"
   ]
  },
  {
   "cell_type": "code",
   "execution_count": 94,
   "id": "9991f03c",
   "metadata": {},
   "outputs": [
    {
     "data": {
      "text/plain": [
       "array([[12.98144796]])"
      ]
     },
     "execution_count": 94,
     "metadata": {},
     "output_type": "execute_result"
    }
   ],
   "source": [
    "#Case4\n",
    "sc_y.inverse_transform(regressor.predict(sc_X.transform([[30.77425,23.61017]])).reshape(-1,1))"
   ]
  },
  {
   "cell_type": "markdown",
   "id": "29bd9c13",
   "metadata": {},
   "source": [
    "## Evaluating the Model Performance using r2score and rmsc"
   ]
  },
  {
   "cell_type": "code",
   "execution_count": 99,
   "id": "a07faf26",
   "metadata": {},
   "outputs": [
    {
     "name": "stdout",
     "output_type": "stream",
     "text": [
      "r2-score 0.970752846257801\n"
     ]
    }
   ],
   "source": [
    "from sklearn.metrics import r2_score\n",
    "print(\"r2-score\", r2_score(y_test,y_pred))"
   ]
  },
  {
   "cell_type": "code",
   "execution_count": 100,
   "id": "6800aa24",
   "metadata": {},
   "outputs": [
    {
     "name": "stdout",
     "output_type": "stream",
     "text": [
      "The Mean Square Error is 0.7602843119579633\n"
     ]
    }
   ],
   "source": [
    "from sklearn.metrics import mean_squared_error as msc\n",
    "from math import sqrt\n",
    "rms=sqrt(msc(y_test,y_pred))\n",
    "print(\"The Mean Square Error is\", rms)"
   ]
  },
  {
   "cell_type": "markdown",
   "id": "e83b0d11",
   "metadata": {
    "colab_type": "text",
    "id": "deDnDr8UR5vq"
   },
   "source": [
    "## 3. Decision Tree Regression"
   ]
  },
  {
   "cell_type": "markdown",
   "id": "f8c32254",
   "metadata": {},
   "source": [
    "##  Selecting the copied dataset"
   ]
  },
  {
   "cell_type": "code",
   "execution_count": 106,
   "id": "291a2399",
   "metadata": {},
   "outputs": [],
   "source": [
    "X = data_DT[['biking','smoking']]\n",
    "y = data_DT[['heart.disease']]"
   ]
  },
  {
   "cell_type": "markdown",
   "id": "eaccefd6",
   "metadata": {},
   "source": [
    "## Splitting the dataset into the Training set and Test set"
   ]
  },
  {
   "cell_type": "code",
   "execution_count": 107,
   "id": "ede55912",
   "metadata": {},
   "outputs": [],
   "source": [
    "X_train, X_test, y_train, y_test = train_test_split(X, y, test_size = 0.2, random_state = 0)"
   ]
  },
  {
   "cell_type": "code",
   "execution_count": 108,
   "id": "63e788ec",
   "metadata": {},
   "outputs": [],
   "source": [
    "from sklearn.tree import DecisionTreeRegressor\n",
    "from sklearn.tree import plot_tree #tree diagram"
   ]
  },
  {
   "cell_type": "markdown",
   "id": "7784769b",
   "metadata": {},
   "source": [
    "## Training the Decision Tree Regression model on the Training set"
   ]
  },
  {
   "cell_type": "code",
   "execution_count": 109,
   "id": "9561eec7",
   "metadata": {},
   "outputs": [
    {
     "data": {
      "text/plain": [
       "DecisionTreeRegressor(random_state=0)"
      ]
     },
     "execution_count": 109,
     "metadata": {},
     "output_type": "execute_result"
    }
   ],
   "source": [
    "regressor = DecisionTreeRegressor(random_state=0)\n",
    "regressor.fit(X,y)"
   ]
  },
  {
   "cell_type": "markdown",
   "id": "d7d97fe6",
   "metadata": {},
   "source": [
    "## Predicting the Test set results"
   ]
  },
  {
   "cell_type": "code",
   "execution_count": 120,
   "id": "3fff9529",
   "metadata": {},
   "outputs": [],
   "source": [
    "y_pred=regressor.predict(X_test)"
   ]
  },
  {
   "attachments": {
    "image.png": {
     "image/png": "[encoded data removed]"
    }
   },
   "cell_type": "markdown",
   "id": "e545768c",
   "metadata": {},
   "source": [
    "## Validation dataset\n",
    "![image.png](attachment:image.png)\n",
    "Fill up the excel"
   ]
  },
  {
   "cell_type": "code",
   "execution_count": 121,
   "id": "a7f13e3b",
   "metadata": {},
   "outputs": [
    {
     "data": {
      "text/plain": [
       "array([9.79848336])"
      ]
     },
     "execution_count": 121,
     "metadata": {},
     "output_type": "execute_result"
    }
   ],
   "source": [
    "#Case1\n",
    "regressor.predict(([[45.0972,21.38562]]))"
   ]
  },
  {
   "cell_type": "code",
   "execution_count": 122,
   "id": "5c71b1ce",
   "metadata": {},
   "outputs": [
    {
     "data": {
      "text/plain": [
       "array([14.44377369])"
      ]
     },
     "execution_count": 122,
     "metadata": {},
     "output_type": "execute_result"
    }
   ],
   "source": [
    "#Case2\n",
    "regressor.predict(([[8.279743,6.42372]]))"
   ]
  },
  {
   "cell_type": "code",
   "execution_count": 123,
   "id": "a3a7da1a",
   "metadata": {},
   "outputs": [
    {
     "data": {
      "text/plain": [
       "array([9.79848336])"
      ]
     },
     "execution_count": 123,
     "metadata": {},
     "output_type": "execute_result"
    }
   ],
   "source": [
    "#Case3\n",
    "regressor.predict(([[42.34586,20.74133]]))"
   ]
  },
  {
   "cell_type": "code",
   "execution_count": 124,
   "id": "a382e6fd",
   "metadata": {},
   "outputs": [
    {
     "data": {
      "text/plain": [
       "array([12.99647582])"
      ]
     },
     "execution_count": 124,
     "metadata": {},
     "output_type": "execute_result"
    }
   ],
   "source": [
    "#Case4\n",
    "regressor.predict(([[30.77425,23.61017]]))"
   ]
  },
  {
   "cell_type": "markdown",
   "id": "01ce916b",
   "metadata": {},
   "source": [
    "## Evaluating the Model Performance using r2score and rmsc"
   ]
  },
  {
   "cell_type": "code",
   "execution_count": 125,
   "id": "ebd9a55b",
   "metadata": {},
   "outputs": [
    {
     "name": "stdout",
     "output_type": "stream",
     "text": [
      "r2-score 1.0\n"
     ]
    }
   ],
   "source": [
    "from sklearn.metrics import r2_score\n",
    "print(\"r2-score\", r2_score(y_test,y_pred))"
   ]
  },
  {
   "cell_type": "code",
   "execution_count": 126,
   "id": "d7e1c0f0",
   "metadata": {},
   "outputs": [
    {
     "name": "stdout",
     "output_type": "stream",
     "text": [
      "The Mean Square Error is 0.0\n"
     ]
    }
   ],
   "source": [
    "from sklearn.metrics import mean_squared_error as msc\n",
    "from math import sqrt\n",
    "rms=sqrt(msc(y_test,y_pred))\n",
    "print(\"The Mean Square Error is\", rms)"
   ]
  },
  {
   "cell_type": "markdown",
   "id": "a4539940",
   "metadata": {},
   "source": [
    "# 4. Random Forest Regression"
   ]
  },
  {
   "cell_type": "markdown",
   "id": "b8882825",
   "metadata": {},
   "source": [
    "## Selecting the copied dataset"
   ]
  },
  {
   "cell_type": "code",
   "execution_count": 127,
   "id": "ff98c24c",
   "metadata": {},
   "outputs": [],
   "source": [
    "X = data_RF[['biking','smoking']]\n",
    "y = data_RF[['heart.disease']]"
   ]
  },
  {
   "cell_type": "code",
   "execution_count": null,
   "id": "dd9f5233",
   "metadata": {},
   "outputs": [],
   "source": []
  },
  {
   "cell_type": "markdown",
   "id": "4de73d49",
   "metadata": {},
   "source": [
    "## Splitting the dataset into the Training set and Test set"
   ]
  },
  {
   "cell_type": "code",
   "execution_count": 128,
   "id": "82b9458d",
   "metadata": {},
   "outputs": [],
   "source": [
    "X_train, X_test, y_train, y_test = train_test_split(X, y, test_size = 0.2, random_state = 0)"
   ]
  },
  {
   "cell_type": "markdown",
   "id": "70532d9d",
   "metadata": {},
   "source": [
    "## Training the Decision Tree Regression model on the Training set"
   ]
  },
  {
   "cell_type": "code",
   "execution_count": 129,
   "id": "a67dfa6f",
   "metadata": {},
   "outputs": [
    {
     "name": "stderr",
     "output_type": "stream",
     "text": [
      "<ipython-input-129-c0179386adc8>:3: DataConversionWarning: A column-vector y was passed when a 1d array was expected. Please change the shape of y to (n_samples,), for example using ravel().\n",
      "  regressor.fit(X,y)\n"
     ]
    },
    {
     "data": {
      "text/plain": [
       "RandomForestRegressor(n_estimators=20, random_state=0)"
      ]
     },
     "execution_count": 129,
     "metadata": {},
     "output_type": "execute_result"
    }
   ],
   "source": [
    "from sklearn.ensemble import RandomForestRegressor\n",
    "regressor=RandomForestRegressor(n_estimators=20, random_state=0)\n",
    "regressor.fit(X,y)"
   ]
  },
  {
   "cell_type": "code",
   "execution_count": null,
   "id": "517d4137",
   "metadata": {},
   "outputs": [],
   "source": []
  },
  {
   "cell_type": "code",
   "execution_count": null,
   "id": "68d09e61",
   "metadata": {},
   "outputs": [],
   "source": []
  },
  {
   "cell_type": "markdown",
   "id": "b6209224",
   "metadata": {},
   "source": [
    "## Predicting the Test set results"
   ]
  },
  {
   "cell_type": "code",
   "execution_count": 139,
   "id": "0ef167d6",
   "metadata": {},
   "outputs": [],
   "source": [
    "y_pred=regressor.predict(X_test)"
   ]
  },
  {
   "cell_type": "code",
   "execution_count": null,
   "id": "bbffab0b",
   "metadata": {},
   "outputs": [],
   "source": []
  },
  {
   "attachments": {
    "image.png": {
     "image/png": "[encoded data removed]"
    }
   },
   "cell_type": "markdown",
   "id": "b642778b",
   "metadata": {},
   "source": [
    "## Validation dataset\n",
    "![image.png](attachment:image.png)"
   ]
  },
  {
   "cell_type": "code",
   "execution_count": 140,
   "id": "af43f486",
   "metadata": {},
   "outputs": [
    {
     "data": {
      "text/plain": [
       "array([9.31145191])"
      ]
     },
     "execution_count": 140,
     "metadata": {},
     "output_type": "execute_result"
    }
   ],
   "source": [
    "#Case1\n",
    "regressor.predict(([[45.0972,21.38562]]))"
   ]
  },
  {
   "cell_type": "code",
   "execution_count": 141,
   "id": "c309e840",
   "metadata": {},
   "outputs": [
    {
     "data": {
      "text/plain": [
       "array([14.28740131])"
      ]
     },
     "execution_count": 141,
     "metadata": {},
     "output_type": "execute_result"
    }
   ],
   "source": [
    "#Case2\n",
    "regressor.predict(([[8.279743,6.42372]]))"
   ]
  },
  {
   "cell_type": "code",
   "execution_count": 142,
   "id": "2f338622",
   "metadata": {},
   "outputs": [
    {
     "data": {
      "text/plain": [
       "array([9.5566818])"
      ]
     },
     "execution_count": 142,
     "metadata": {},
     "output_type": "execute_result"
    }
   ],
   "source": [
    "#Case3\n",
    "regressor.predict(([[42.34586,20.74133]]))"
   ]
  },
  {
   "cell_type": "code",
   "execution_count": 143,
   "id": "0cfe73fe",
   "metadata": {},
   "outputs": [
    {
     "data": {
      "text/plain": [
       "array([13.05347471])"
      ]
     },
     "execution_count": 143,
     "metadata": {},
     "output_type": "execute_result"
    }
   ],
   "source": [
    "#Case4\n",
    "regressor.predict(([[30.77425,23.61017]]))"
   ]
  },
  {
   "cell_type": "code",
   "execution_count": null,
   "id": "c32fc9c8",
   "metadata": {},
   "outputs": [],
   "source": []
  },
  {
   "cell_type": "markdown",
   "id": "c09e4d02",
   "metadata": {},
   "source": [
    "## Evaluating the Model Performance"
   ]
  },
  {
   "cell_type": "code",
   "execution_count": 144,
   "id": "35434833",
   "metadata": {},
   "outputs": [
    {
     "name": "stdout",
     "output_type": "stream",
     "text": [
      "r2-score 0.9943419577537885\n"
     ]
    }
   ],
   "source": [
    "from sklearn.metrics import r2_score\n",
    "print(\"r2-score\", r2_score(y_test,y_pred))"
   ]
  },
  {
   "cell_type": "code",
   "execution_count": 145,
   "id": "60507e11",
   "metadata": {},
   "outputs": [
    {
     "name": "stdout",
     "output_type": "stream",
     "text": [
      "The Mean Square Error is 0.33440080792667576\n"
     ]
    }
   ],
   "source": [
    "rms=sqrt(msc(y_test,y_pred))\n",
    "print(\"The Mean Square Error is\", rms)"
   ]
  },
  {
   "cell_type": "code",
   "execution_count": null,
   "id": "76d7fc0c",
   "metadata": {},
   "outputs": [],
   "source": []
  }
 ],
 "metadata": {
  "kernelspec": {
   "display_name": "Python 3",
   "language": "python",
   "name": "python3"
  },
  "language_info": {
   "codemirror_mode": {
    "name": "ipython",
    "version": 3
   },
   "file_extension": ".py",
   "mimetype": "text/x-python",
   "name": "python",
   "nbconvert_exporter": "python",
   "pygments_lexer": "ipython3",
   "version": "3.8.8"
  }
 },
 "nbformat": 4,
 "nbformat_minor": 5
}
